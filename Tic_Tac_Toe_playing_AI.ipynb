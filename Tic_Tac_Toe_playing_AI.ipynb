{
  "nbformat": 4,
  "nbformat_minor": 0,
  "metadata": {
    "colab": {
      "provenance": []
    },
    "kernelspec": {
      "name": "python3",
      "display_name": "Python 3"
    },
    "language_info": {
      "name": "python"
    }
  },
  "cells": [
    {
      "cell_type": "markdown",
      "source": [
        "Code:"
      ],
      "metadata": {
        "id": "mcNY9_DzHeca"
      }
    },
    {
      "cell_type": "code",
      "execution_count": 7,
      "metadata": {
        "id": "b7VtemSA6nJw"
      },
      "outputs": [],
      "source": [
        "# Function to print current status of the board:\n",
        "def ConstBoard(board):\n",
        "  print(\"Current State of the board: \\n\\n\");\n",
        "  for i in range(0,9):\n",
        "    if((i>0) and (i%3==0)):\n",
        "      print(\"\\n\");\n",
        "    if(board[i] == 0):\n",
        "      print(\"_\", end=\" \");\n",
        "    if(board[i] == -1):\n",
        "      print(\"X\", end=\" \");\n",
        "    if(board[i] == 1):\n",
        "      print(\"O\", end=\" \");\n",
        "  print(\"\\n\\n\");\n",
        "\n",
        "\n",
        "# Function for X's Turn:\n",
        "def User1Turn(board):\n",
        "    pos = int(input(\"Enter X's position (1-9): \"));\n",
        "    if(board[pos-1] != 0):\n",
        "      print(\"Wrong Move!\");\n",
        "      exit(0);\n",
        "    board[pos-1] = -1;\n",
        "\n",
        "\n",
        "# Function for O's Turn:\n",
        "def User2Turn(board):\n",
        "    pos = int(input(\"Enter O's position (1-9): \"));\n",
        "    if(board[pos-1] != 0):\n",
        "      print(\"Wrong Move!\");\n",
        "      exit(0);\n",
        "    board[pos-1] = 1;\n",
        "\n",
        "\n",
        "# Using Min-Max Algorithm to create logic:\n",
        "def minmax(board,player):\n",
        "  x = analyzeboard(board);\n",
        "  if(x != 0):\n",
        "    return (x * player);\n",
        "  pos = -1;\n",
        "  value = -2;\n",
        "  for i in range(0,9):\n",
        "    if(board[i] == 0):\n",
        "      board[i] = player;\n",
        "      score = -minmax(board,player*-1);\n",
        "      board[i] = 0;\n",
        "      if(score > value):\n",
        "        value = score;\n",
        "        pos = i;\n",
        "  if(pos == -1):\n",
        "    return 0;\n",
        "  return value;\n",
        "\n",
        "\n",
        "# Function for Computer's Turn:\n",
        "def CompTurn(board):\n",
        "  pos = -1;\n",
        "  value = -2;\n",
        "  for i in range(0,9):\n",
        "    if(board[i] == 0):\n",
        "      board[i] = 1;\n",
        "      score = -minmax(board,-1);\n",
        "      board[i] = 0;\n",
        "      if(score > value):\n",
        "        value = score;\n",
        "        pos = i;\n",
        "  board[pos] = 1\n",
        "\n",
        "\n",
        "# Function to analyze the borard and print current status of the board:\n",
        "def analyzeboard(board):\n",
        "  cb = [[0,1,2],[3,4,5],[6,7,8],[0,3,6],[1,4,7],[2,5,8],[0,4,8],[2,4,6]]\n",
        "\n",
        "  for i in range(0,8):\n",
        "    if(board[cb[i][0]] != 0 and board[cb[i][0]] == board[cb[i][1]] and board[cb[i][0]] == board [cb[i][2]]):\n",
        "      return board[cb[i][0]];\n",
        "\n",
        "  return 0;\n",
        "\n",
        "\n",
        "# MAIN FUNCTION\n",
        "def main():\n",
        "  choice = int(input(\"Enter 1 for Single Player or 2 for Multiplayer: \"));\n",
        "  board = [0, 0, 0, 0, 0, 0, 0, 0, 0]\n",
        "  if(choice == 1):\n",
        "    print(\"Computer: O vs You: X\");\n",
        "    player = input(\"Enter to play 1(st) or 2(nd): \");\n",
        "    player = int(player);\n",
        "    for i in range(0,9):\n",
        "      if(analyzeboard(board) != 0):\n",
        "        break;\n",
        "      if((i+player)%2 == 0):\n",
        "        CompTurn(board);\n",
        "      else:\n",
        "        ConstBoard(board);\n",
        "        User1Turn(board);\n",
        "\n",
        "  else:\n",
        "    for i in range(0,9):\n",
        "      if(analyzeboard(board) != 0):\n",
        "        break;\n",
        "      if(i%2 == 0):\n",
        "        ConstBoard(board);\n",
        "        User1Turn(board);\n",
        "      else:\n",
        "        ConstBoard(board);\n",
        "        User2Turn(board);\n",
        "\n",
        "  x = analyzeboard(board);\n",
        "  if(x == 0):\n",
        "    ConstBoard(board);\n",
        "    print(\"Draw!\");\n",
        "  if(x == -1):\n",
        "    ConstBoard(board);\n",
        "    print(\"Player X wins!\");\n",
        "  if(x == 1):\n",
        "    ConstBoard(board);\n",
        "    print(\"Player O wins!\");"
      ]
    },
    {
      "cell_type": "markdown",
      "source": [
        "To play run the above code and then run the main function below:"
      ],
      "metadata": {
        "id": "zWxJXgbrHRu7"
      }
    },
    {
      "cell_type": "code",
      "source": [
        "main()"
      ],
      "metadata": {
        "id": "f2qt1jQf619c"
      },
      "execution_count": null,
      "outputs": []
    }
  ]
}